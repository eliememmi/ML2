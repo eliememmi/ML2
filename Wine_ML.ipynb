{
 "cells": [
  {
   "cell_type": "code",
   "execution_count": 39,
   "id": "c9721791",
   "metadata": {},
   "outputs": [],
   "source": [
    "import matplotlib.pyplot as plt\n",
    "import pandas as pd\n",
    "import numpy as np\n",
    "import sklearn.datasets\n",
    "from sklearn.model_selection import train_test_split\n",
    "from sklearn.metrics import accuracy_score\n",
    "from sklearn.ensemble import RandomForestClassifier\n",
    "from sklearn.tree import DecisionTreeClassifier\n"
   ]
  },
  {
   "cell_type": "code",
   "execution_count": 40,
   "id": "f8e37fd6",
   "metadata": {
    "scrolled": true
   },
   "outputs": [],
   "source": [
    "df = pd.read_csv('winequality-red.csv', delimiter = ';')"
   ]
  },
  {
   "cell_type": "code",
   "execution_count": 41,
   "id": "8bd1a6d5",
   "metadata": {
    "scrolled": true
   },
   "outputs": [
    {
     "data": {
      "text/html": [
       "<div>\n",
       "<style scoped>\n",
       "    .dataframe tbody tr th:only-of-type {\n",
       "        vertical-align: middle;\n",
       "    }\n",
       "\n",
       "    .dataframe tbody tr th {\n",
       "        vertical-align: top;\n",
       "    }\n",
       "\n",
       "    .dataframe thead th {\n",
       "        text-align: right;\n",
       "    }\n",
       "</style>\n",
       "<table border=\"1\" class=\"dataframe\">\n",
       "  <thead>\n",
       "    <tr style=\"text-align: right;\">\n",
       "      <th></th>\n",
       "      <th>fixed acidity</th>\n",
       "      <th>volatile acidity</th>\n",
       "      <th>citric acid</th>\n",
       "      <th>residual sugar</th>\n",
       "      <th>chlorides</th>\n",
       "      <th>free sulfur dioxide</th>\n",
       "      <th>total sulfur dioxide</th>\n",
       "      <th>density</th>\n",
       "      <th>pH</th>\n",
       "      <th>sulphates</th>\n",
       "      <th>alcohol</th>\n",
       "      <th>quality</th>\n",
       "    </tr>\n",
       "  </thead>\n",
       "  <tbody>\n",
       "    <tr>\n",
       "      <th>0</th>\n",
       "      <td>7.4</td>\n",
       "      <td>0.70</td>\n",
       "      <td>0.00</td>\n",
       "      <td>1.9</td>\n",
       "      <td>0.076</td>\n",
       "      <td>11.0</td>\n",
       "      <td>34.0</td>\n",
       "      <td>0.9978</td>\n",
       "      <td>3.51</td>\n",
       "      <td>0.56</td>\n",
       "      <td>9.4</td>\n",
       "      <td>1</td>\n",
       "    </tr>\n",
       "    <tr>\n",
       "      <th>1</th>\n",
       "      <td>7.8</td>\n",
       "      <td>0.88</td>\n",
       "      <td>0.00</td>\n",
       "      <td>2.6</td>\n",
       "      <td>0.098</td>\n",
       "      <td>25.0</td>\n",
       "      <td>67.0</td>\n",
       "      <td>0.9968</td>\n",
       "      <td>3.20</td>\n",
       "      <td>0.68</td>\n",
       "      <td>9.8</td>\n",
       "      <td>1</td>\n",
       "    </tr>\n",
       "    <tr>\n",
       "      <th>2</th>\n",
       "      <td>7.8</td>\n",
       "      <td>0.76</td>\n",
       "      <td>0.04</td>\n",
       "      <td>2.3</td>\n",
       "      <td>0.092</td>\n",
       "      <td>15.0</td>\n",
       "      <td>54.0</td>\n",
       "      <td>0.9970</td>\n",
       "      <td>3.26</td>\n",
       "      <td>0.65</td>\n",
       "      <td>9.8</td>\n",
       "      <td>1</td>\n",
       "    </tr>\n",
       "    <tr>\n",
       "      <th>3</th>\n",
       "      <td>11.2</td>\n",
       "      <td>0.28</td>\n",
       "      <td>0.56</td>\n",
       "      <td>1.9</td>\n",
       "      <td>0.075</td>\n",
       "      <td>17.0</td>\n",
       "      <td>60.0</td>\n",
       "      <td>0.9980</td>\n",
       "      <td>3.16</td>\n",
       "      <td>0.58</td>\n",
       "      <td>9.8</td>\n",
       "      <td>0</td>\n",
       "    </tr>\n",
       "    <tr>\n",
       "      <th>4</th>\n",
       "      <td>7.4</td>\n",
       "      <td>0.70</td>\n",
       "      <td>0.00</td>\n",
       "      <td>1.9</td>\n",
       "      <td>0.076</td>\n",
       "      <td>11.0</td>\n",
       "      <td>34.0</td>\n",
       "      <td>0.9978</td>\n",
       "      <td>3.51</td>\n",
       "      <td>0.56</td>\n",
       "      <td>9.4</td>\n",
       "      <td>1</td>\n",
       "    </tr>\n",
       "  </tbody>\n",
       "</table>\n",
       "</div>"
      ],
      "text/plain": [
       "   fixed acidity  volatile acidity  citric acid  residual sugar  chlorides  \\\n",
       "0            7.4              0.70         0.00             1.9      0.076   \n",
       "1            7.8              0.88         0.00             2.6      0.098   \n",
       "2            7.8              0.76         0.04             2.3      0.092   \n",
       "3           11.2              0.28         0.56             1.9      0.075   \n",
       "4            7.4              0.70         0.00             1.9      0.076   \n",
       "\n",
       "   free sulfur dioxide  total sulfur dioxide  density    pH  sulphates  \\\n",
       "0                 11.0                  34.0   0.9978  3.51       0.56   \n",
       "1                 25.0                  67.0   0.9968  3.20       0.68   \n",
       "2                 15.0                  54.0   0.9970  3.26       0.65   \n",
       "3                 17.0                  60.0   0.9980  3.16       0.58   \n",
       "4                 11.0                  34.0   0.9978  3.51       0.56   \n",
       "\n",
       "   alcohol  quality  \n",
       "0      9.4        1  \n",
       "1      9.8        1  \n",
       "2      9.8        1  \n",
       "3      9.8        0  \n",
       "4      9.4        1  "
      ]
     },
     "execution_count": 41,
     "metadata": {},
     "output_type": "execute_result"
    }
   ],
   "source": [
    "df['quality'] = df['quality'].apply(lambda x: int(x <= 5))\n",
    "df.head()"
   ]
  },
  {
   "cell_type": "code",
   "execution_count": 42,
   "id": "f33aaf43",
   "metadata": {},
   "outputs": [],
   "source": [
    "X, y = df.drop(columns=['quality']).to_numpy(), df['quality'].to_numpy()\n",
    "X_train, X_test, y_train, y_test = train_test_split(X, y, test_size=0.40, random_state = 42)"
   ]
  },
  {
   "cell_type": "markdown",
   "id": "12f7b35c",
   "metadata": {},
   "source": [
    " ### סעיף 1"
   ]
  },
  {
   "cell_type": "code",
   "execution_count": 43,
   "id": "e078ec95",
   "metadata": {},
   "outputs": [],
   "source": [
    "tree_classifier = DecisionTreeClassifier(max_depth=12, random_state=0)\n",
    "tree_classifier = tree_classifier.fit(X_train, y_train)\n"
   ]
  },
  {
   "cell_type": "code",
   "execution_count": 44,
   "id": "215ef5ac",
   "metadata": {},
   "outputs": [
    {
     "name": "stdout",
     "output_type": "stream",
     "text": [
      "Score train is  98.95724713242961\n",
      "Score test is 72.8125\n"
     ]
    }
   ],
   "source": [
    "score_train = 100*accuracy_score(y_true=y_train, y_pred=tree_classifier.predict(X_train))\n",
    "score_test  = 100*accuracy_score(y_true=y_test, y_pred=tree_classifier.predict(X_test))\n",
    "print(f'Score train is ', score_train)\n",
    "print(f'Score test is', score_test)"
   ]
  },
  {
   "cell_type": "markdown",
   "id": "046680ec",
   "metadata": {},
   "source": [
    " ### סעיף 2 "
   ]
  },
  {
   "cell_type": "code",
   "execution_count": 45,
   "id": "332c616e",
   "metadata": {},
   "outputs": [],
   "source": [
    "forest_classifier = RandomForestClassifier(n_estimators=100, max_depth=12, random_state=0)\n",
    "forest_classifier = forest_classifier.fit(X_train, y_train)"
   ]
  },
  {
   "cell_type": "code",
   "execution_count": 46,
   "id": "5359cf23",
   "metadata": {},
   "outputs": [
    {
     "name": "stdout",
     "output_type": "stream",
     "text": [
      "Score train is  99.89572471324296\n",
      "Score test is 80.15625\n"
     ]
    }
   ],
   "source": [
    "score_train = 100*accuracy_score(y_true=y_train, y_pred=forest_classifier.predict(X_train))\n",
    "score_test  = 100*accuracy_score(y_true=y_test, y_pred=forest_classifier.predict(X_test))\n",
    "print(f'Score train is ', score_train)\n",
    "print(f'Score test is', score_test)"
   ]
  },
  {
   "cell_type": "code",
   "execution_count": 47,
   "id": "36530a4b",
   "metadata": {},
   "outputs": [],
   "source": [
    "test_accuracies = [accuracy_score(y_true=y_test, y_pred=RandomForestClassifier(n_estimators=n, max_depth=12, random_state=0).fit(X_train, y_train).predict(X_test)) for n in range(1, 110, 10)]"
   ]
  },
  {
   "cell_type": "code",
   "execution_count": 48,
   "id": "ff8280fd",
   "metadata": {},
   "outputs": [
    {
     "data": {
      "image/png": "[encoded data removed]",
      "text/plain": [
       "<Figure size 640x480 with 1 Axes>"
      ]
     },
     "metadata": {},
     "output_type": "display_data"
    }
   ],
   "source": [
    "n_estimators = list(range(1, 110, 10))\n",
    "\n",
    "plt.plot(n_estimators, test_accuracies)\n",
    "plt.title('Test accuracy VS. Number of Estimators')\n",
    "plt.xlabel('Number of trees')\n",
    "plt.ylabel('Test Accuracy')\n",
    "plt.show()\n"
   ]
  },
  {
   "cell_type": "markdown",
   "id": "ebecb58e",
   "metadata": {},
   "source": [
    " ### סעיף 3"
   ]
  },
  {
   "cell_type": "code",
   "execution_count": 49,
   "id": "1aa390e2",
   "metadata": {},
   "outputs": [],
   "source": [
    "forest_classifier_all_f = RandomForestClassifier(n_estimators=100, max_depth=12, random_state=0, max_features=None)\n",
    "forest_classifier_all_f = forest_classifier_all_f.fit(X_train, y_train)"
   ]
  },
  {
   "cell_type": "code",
   "execution_count": 50,
   "id": "bcbe9f47",
   "metadata": {},
   "outputs": [
    {
     "name": "stdout",
     "output_type": "stream",
     "text": [
      "Score train is  99.89572471324296\n",
      "Score test is 78.59375\n"
     ]
    }
   ],
   "source": [
    "score_train = 100*accuracy_score(y_true=y_train, y_pred=forest_classifier_all_f.predict(X_train))\n",
    "score_test  = 100*accuracy_score(y_true=y_test, y_pred=forest_classifier_all_f.predict(X_test))\n",
    "print(f'Score train is ', score_train)\n",
    "print(f'Score test is', score_test)"
   ]
  },
  {
   "cell_type": "code",
   "execution_count": 51,
   "id": "74f09054",
   "metadata": {},
   "outputs": [],
   "source": [
    "test_accuracies = [accuracy_score(y_true=y_test, y_pred=RandomForestClassifier(n_estimators=n, max_depth=12, random_state=0, max_features=None).fit(X_train, y_train).predict(X_test)) for n in range(1, 110, 10)]"
   ]
  },
  {
   "cell_type": "code",
   "execution_count": 52,
   "id": "f0f7ae07",
   "metadata": {},
   "outputs": [
    {
     "data": {
      "image/png": "[encoded data removed]",
      "text/plain": [
       "<Figure size 640x480 with 1 Axes>"
      ]
     },
     "metadata": {},
     "output_type": "display_data"
    }
   ],
   "source": [
    "plt.plot(n_estimators, test_accuracies)\n",
    "plt.title(f'Test accuracy VS. Number of Estimators\\nwith all features')\n",
    "plt.xlabel('Number of trees')\n",
    "plt.ylabel('Test Accuracy')\n",
    "plt.show()"
   ]
  },
  {
   "cell_type": "markdown",
   "id": "73668fd5",
   "metadata": {},
   "source": [
    "###   (a)  סעיף 4"
   ]
  },
  {
   "cell_type": "markdown",
   "id": "bc933d98",
   "metadata": {},
   "source": [
    "המודל בסעיף ב יותר טוב מכמה סיבות. \n",
    " קודם כל יש לו רמת דיוק על טסט יותר גבוה, וגם כי הוא יותר יציב כלומר משתמש ב100 עצים ודוגם רנדומלית את הפייטורים. \n",
    " "
   ]
  },
  {
   "cell_type": "markdown",
   "id": "f67c2346",
   "metadata": {},
   "source": [
    " ###  (b)סעיף 4"
   ]
  },
  {
   "cell_type": "markdown",
   "id": "31f2e2aa",
   "metadata": {},
   "source": [
    "המודל בסעיף 3 פחות טוב כי הוא יכול לגרום לבעיה של אוברפיטינג\n",
    "בגלל שהוא בוחר בכל הפייצרים, יהיה לו רצון יותר גבוה להתאים לסט האימון."
   ]
  },
  {
   "cell_type": "markdown",
   "id": "ca009747",
   "metadata": {},
   "source": [
    " ### סעיף 5"
   ]
  },
  {
   "cell_type": "markdown",
   "id": "da6acf91",
   "metadata": {},
   "source": [
    "1 : נבחר את הפיצול הראשון כי הוא מכיל יותר עלים"
   ]
  }
 ],
 "metadata": {
  "kernelspec": {
   "display_name": "Python 3 (ipykernel)",
   "language": "python",
   "name": "python3"
  },
  "language_info": {
   "codemirror_mode": {
    "name": "ipython",
    "version": 3
   },
   "file_extension": ".py",
   "mimetype": "text/x-python",
   "name": "python",
   "nbconvert_exporter": "python",
   "pygments_lexer": "ipython3",
   "version": "3.10.9"
  }
 },
 "nbformat": 4,
 "nbformat_minor": 5
}
